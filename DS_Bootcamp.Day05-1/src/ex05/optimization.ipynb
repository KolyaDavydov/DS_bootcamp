{
 "cells": [
  {
   "cell_type": "code",
   "execution_count": 90,
   "id": "50a17bf2",
   "metadata": {},
   "outputs": [],
   "source": [
    "import pandas as pd\n",
    "import gc"
   ]
  },
  {
   "cell_type": "markdown",
   "id": "7228e014",
   "metadata": {},
   "source": [
    "## Прочитайте файл fines.csv, который вы сохранили в предыдущем упражнении"
   ]
  },
  {
   "cell_type": "code",
   "execution_count": 91,
   "id": "857bc47c",
   "metadata": {},
   "outputs": [
    {
     "data": {
      "text/html": [
       "<div>\n",
       "<style scoped>\n",
       "    .dataframe tbody tr th:only-of-type {\n",
       "        vertical-align: middle;\n",
       "    }\n",
       "\n",
       "    .dataframe tbody tr th {\n",
       "        vertical-align: top;\n",
       "    }\n",
       "\n",
       "    .dataframe thead th {\n",
       "        text-align: right;\n",
       "    }\n",
       "</style>\n",
       "<table border=\"1\" class=\"dataframe\">\n",
       "  <thead>\n",
       "    <tr style=\"text-align: right;\">\n",
       "      <th></th>\n",
       "      <th>CarNumber</th>\n",
       "      <th>Refund</th>\n",
       "      <th>Fines</th>\n",
       "      <th>Make</th>\n",
       "      <th>Model</th>\n",
       "      <th>Year</th>\n",
       "    </tr>\n",
       "  </thead>\n",
       "  <tbody>\n",
       "    <tr>\n",
       "      <th>0</th>\n",
       "      <td>Y163O8161RUS</td>\n",
       "      <td>2</td>\n",
       "      <td>3200.0</td>\n",
       "      <td>Ford</td>\n",
       "      <td>Focus</td>\n",
       "      <td>1989</td>\n",
       "    </tr>\n",
       "    <tr>\n",
       "      <th>1</th>\n",
       "      <td>E432XX77RUS</td>\n",
       "      <td>1</td>\n",
       "      <td>6500.0</td>\n",
       "      <td>Toyota</td>\n",
       "      <td>Camry</td>\n",
       "      <td>1995</td>\n",
       "    </tr>\n",
       "    <tr>\n",
       "      <th>2</th>\n",
       "      <td>7184TT36RUS</td>\n",
       "      <td>1</td>\n",
       "      <td>2100.0</td>\n",
       "      <td>Ford</td>\n",
       "      <td>Focus</td>\n",
       "      <td>1984</td>\n",
       "    </tr>\n",
       "    <tr>\n",
       "      <th>3</th>\n",
       "      <td>X582HE161RUS</td>\n",
       "      <td>2</td>\n",
       "      <td>2000.0</td>\n",
       "      <td>Ford</td>\n",
       "      <td>Focus</td>\n",
       "      <td>2015</td>\n",
       "    </tr>\n",
       "    <tr>\n",
       "      <th>4</th>\n",
       "      <td>92918M178RUS</td>\n",
       "      <td>1</td>\n",
       "      <td>5700.0</td>\n",
       "      <td>Ford</td>\n",
       "      <td>Focus</td>\n",
       "      <td>2014</td>\n",
       "    </tr>\n",
       "    <tr>\n",
       "      <th>...</th>\n",
       "      <td>...</td>\n",
       "      <td>...</td>\n",
       "      <td>...</td>\n",
       "      <td>...</td>\n",
       "      <td>...</td>\n",
       "      <td>...</td>\n",
       "    </tr>\n",
       "    <tr>\n",
       "      <th>920</th>\n",
       "      <td>8182XX154RUS</td>\n",
       "      <td>2</td>\n",
       "      <td>75900.0</td>\n",
       "      <td>Ford</td>\n",
       "      <td>Focus</td>\n",
       "      <td>1996</td>\n",
       "    </tr>\n",
       "    <tr>\n",
       "      <th>921</th>\n",
       "      <td>X796TH96RUS</td>\n",
       "      <td>1</td>\n",
       "      <td>3100.0</td>\n",
       "      <td>Ford</td>\n",
       "      <td>Focus</td>\n",
       "      <td>2002</td>\n",
       "    </tr>\n",
       "    <tr>\n",
       "      <th>922</th>\n",
       "      <td>T011MY163RUS</td>\n",
       "      <td>1</td>\n",
       "      <td>69600.0</td>\n",
       "      <td>Ford</td>\n",
       "      <td>Focus</td>\n",
       "      <td>1996</td>\n",
       "    </tr>\n",
       "    <tr>\n",
       "      <th>923</th>\n",
       "      <td>T341CC96RUS</td>\n",
       "      <td>1</td>\n",
       "      <td>27800.0</td>\n",
       "      <td>Volkswagen</td>\n",
       "      <td>Passat</td>\n",
       "      <td>2012</td>\n",
       "    </tr>\n",
       "    <tr>\n",
       "      <th>924</th>\n",
       "      <td>T119CT96RUS</td>\n",
       "      <td>1</td>\n",
       "      <td>7200.0</td>\n",
       "      <td>Ford</td>\n",
       "      <td>Focus</td>\n",
       "      <td>1984</td>\n",
       "    </tr>\n",
       "  </tbody>\n",
       "</table>\n",
       "<p>925 rows × 6 columns</p>\n",
       "</div>"
      ],
      "text/plain": [
       "        CarNumber  Refund    Fines        Make   Model  Year\n",
       "0    Y163O8161RUS       2   3200.0        Ford   Focus  1989\n",
       "1     E432XX77RUS       1   6500.0      Toyota   Camry  1995\n",
       "2     7184TT36RUS       1   2100.0        Ford   Focus  1984\n",
       "3    X582HE161RUS       2   2000.0        Ford   Focus  2015\n",
       "4    92918M178RUS       1   5700.0        Ford   Focus  2014\n",
       "..            ...     ...      ...         ...     ...   ...\n",
       "920  8182XX154RUS       2  75900.0        Ford   Focus  1996\n",
       "921   X796TH96RUS       1   3100.0        Ford   Focus  2002\n",
       "922  T011MY163RUS       1  69600.0        Ford   Focus  1996\n",
       "923   T341CC96RUS       1  27800.0  Volkswagen  Passat  2012\n",
       "924   T119CT96RUS       1   7200.0        Ford   Focus  1984\n",
       "\n",
       "[925 rows x 6 columns]"
      ]
     },
     "execution_count": 91,
     "metadata": {},
     "output_type": "execute_result"
    }
   ],
   "source": [
    "df = pd.read_csv('../data/fines.csv')\n",
    "df"
   ]
  },
  {
   "cell_type": "markdown",
   "id": "2ae194ed",
   "metadata": {},
   "source": [
    "## Итерации: во всех следующих подзадачах нужно посчитать `Fines/Refund*Year` для каждой строки и создать новый столбец с рассчитанными данными и измерить время с помощью волшебной команды `%%timeit` в ячейке"
   ]
  },
  {
   "cell_type": "markdown",
   "id": "d5638885",
   "metadata": {},
   "source": [
    "- Loop"
   ]
  },
  {
   "cell_type": "code",
   "execution_count": 92,
   "id": "02a68981",
   "metadata": {},
   "outputs": [],
   "source": [
    "def loop(df):\n",
    "    res = []\n",
    "    for i in range(0,len(df)):\n",
    "        res.append(df.iloc[i]['Fines'] / df.iloc[i]['Refund'] * df.iloc[i]['Year'])\n",
    "    df['Calculated'] = res"
   ]
  },
  {
   "cell_type": "code",
   "execution_count": 93,
   "id": "52e96672",
   "metadata": {},
   "outputs": [
    {
     "name": "stdout",
     "output_type": "stream",
     "text": [
      "283 ms ± 6.81 ms per loop (mean ± std. dev. of 7 runs, 1 loop each)\n"
     ]
    }
   ],
   "source": [
    "%%timeit\n",
    "loop(df)\n",
    "df"
   ]
  },
  {
   "cell_type": "markdown",
   "id": "6cab8b17",
   "metadata": {},
   "source": [
    "- Iterrows"
   ]
  },
  {
   "cell_type": "code",
   "execution_count": 94,
   "id": "f58cf9ed",
   "metadata": {},
   "outputs": [],
   "source": [
    "def iter(df):\n",
    "    res = []\n",
    "    for _, row in df.iterrows():\n",
    "        res.append(row['Fines'] / row['Refund'] * row['Year'])\n",
    "    df['Calculated'] = res"
   ]
  },
  {
   "cell_type": "code",
   "execution_count": 95,
   "id": "5c39a109",
   "metadata": {},
   "outputs": [
    {
     "name": "stdout",
     "output_type": "stream",
     "text": [
      "84.1 ms ± 1.37 ms per loop (mean ± std. dev. of 7 runs, 10 loops each)\n"
     ]
    }
   ],
   "source": [
    "%%timeit\n",
    "iter(df)\n",
    "df"
   ]
  },
  {
   "cell_type": "markdown",
   "id": "66525604",
   "metadata": {},
   "source": [
    "- apply и lambda-функция"
   ]
  },
  {
   "cell_type": "code",
   "execution_count": 96,
   "id": "ca139101",
   "metadata": {},
   "outputs": [],
   "source": [
    "def apply_lambda(df):\n",
    "    df['Calculated'] = df.apply(lambda x: x['Fines'] / x['Refund'] * x['Year'], axis=1)"
   ]
  },
  {
   "cell_type": "code",
   "execution_count": 97,
   "id": "ca17359a",
   "metadata": {},
   "outputs": [
    {
     "name": "stdout",
     "output_type": "stream",
     "text": [
      "15.3 ms ± 135 µs per loop (mean ± std. dev. of 7 runs, 100 loops each)\n"
     ]
    }
   ],
   "source": [
    "%%timeit\n",
    "apply_lambda(df)\n",
    "df"
   ]
  },
  {
   "cell_type": "markdown",
   "id": "6ec2a9b7",
   "metadata": {},
   "source": [
    "- Series"
   ]
  },
  {
   "cell_type": "code",
   "execution_count": 98,
   "id": "5bf0adad",
   "metadata": {},
   "outputs": [],
   "source": [
    "def series(df):\n",
    "    df['Calculated'] = df['Fines'] / df['Refund'] * df['Year']"
   ]
  },
  {
   "cell_type": "code",
   "execution_count": 99,
   "id": "3c6303ba",
   "metadata": {},
   "outputs": [
    {
     "name": "stdout",
     "output_type": "stream",
     "text": [
      "412 µs ± 12.1 µs per loop (mean ± std. dev. of 7 runs, 1,000 loops each)\n"
     ]
    }
   ],
   "source": [
    "%%timeit\n",
    "series(df)\n",
    "df"
   ]
  },
  {
   "cell_type": "markdown",
   "id": "ab32b280",
   "metadata": {},
   "source": [
    "- series + метод `values()`"
   ]
  },
  {
   "cell_type": "code",
   "execution_count": 100,
   "id": "ac6bfd27",
   "metadata": {},
   "outputs": [],
   "source": [
    "def series_values(df):\n",
    "    df['Calculated'] = df['Fines'].values / df['Refund'].values * df['Year'].values"
   ]
  },
  {
   "cell_type": "code",
   "execution_count": 101,
   "id": "e2d3002b",
   "metadata": {},
   "outputs": [
    {
     "name": "stdout",
     "output_type": "stream",
     "text": [
      "179 µs ± 2.77 µs per loop (mean ± std. dev. of 7 runs, 10,000 loops each)\n"
     ]
    }
   ],
   "source": [
    "%%timeit\n",
    "series_values(df)\n",
    "df"
   ]
  },
  {
   "cell_type": "markdown",
   "id": "07331423",
   "metadata": {},
   "source": [
    "## Индексирование: измерьте время с помощью волшебной команды `%%timeit` в ячейке"
   ]
  },
  {
   "cell_type": "markdown",
   "id": "f349e55f",
   "metadata": {},
   "source": [
    "- Получим строки соотвествующие номеру машины O136HO197RUS\n"
   ]
  },
  {
   "cell_type": "code",
   "execution_count": 102,
   "id": "178cd38d",
   "metadata": {},
   "outputs": [
    {
     "name": "stdout",
     "output_type": "stream",
     "text": [
      "452 µs ± 3.88 µs per loop (mean ± std. dev. of 7 runs, 1,000 loops each)\n"
     ]
    }
   ],
   "source": [
    "%%timeit\n",
    "df.loc[df['CarNumber'] == 'O136HO197RUS']"
   ]
  },
  {
   "cell_type": "markdown",
   "id": "38191493",
   "metadata": {},
   "source": [
    "- установите индекс в вашем фрейме данных с помощью CarNumber\n",
    "- снова получите строку для того же CarNumber"
   ]
  },
  {
   "cell_type": "code",
   "execution_count": 103,
   "id": "1a416f39",
   "metadata": {},
   "outputs": [
    {
     "data": {
      "text/html": [
       "<div>\n",
       "<style scoped>\n",
       "    .dataframe tbody tr th:only-of-type {\n",
       "        vertical-align: middle;\n",
       "    }\n",
       "\n",
       "    .dataframe tbody tr th {\n",
       "        vertical-align: top;\n",
       "    }\n",
       "\n",
       "    .dataframe thead th {\n",
       "        text-align: right;\n",
       "    }\n",
       "</style>\n",
       "<table border=\"1\" class=\"dataframe\">\n",
       "  <thead>\n",
       "    <tr style=\"text-align: right;\">\n",
       "      <th></th>\n",
       "      <th>Refund</th>\n",
       "      <th>Fines</th>\n",
       "      <th>Make</th>\n",
       "      <th>Model</th>\n",
       "      <th>Year</th>\n",
       "      <th>Calculated</th>\n",
       "    </tr>\n",
       "    <tr>\n",
       "      <th>CarNumber</th>\n",
       "      <th></th>\n",
       "      <th></th>\n",
       "      <th></th>\n",
       "      <th></th>\n",
       "      <th></th>\n",
       "      <th></th>\n",
       "    </tr>\n",
       "  </thead>\n",
       "  <tbody>\n",
       "    <tr>\n",
       "      <th>Y163O8161RUS</th>\n",
       "      <td>2</td>\n",
       "      <td>3200.0</td>\n",
       "      <td>Ford</td>\n",
       "      <td>Focus</td>\n",
       "      <td>1989</td>\n",
       "      <td>3182400.0</td>\n",
       "    </tr>\n",
       "    <tr>\n",
       "      <th>E432XX77RUS</th>\n",
       "      <td>1</td>\n",
       "      <td>6500.0</td>\n",
       "      <td>Toyota</td>\n",
       "      <td>Camry</td>\n",
       "      <td>1995</td>\n",
       "      <td>12967500.0</td>\n",
       "    </tr>\n",
       "    <tr>\n",
       "      <th>7184TT36RUS</th>\n",
       "      <td>1</td>\n",
       "      <td>2100.0</td>\n",
       "      <td>Ford</td>\n",
       "      <td>Focus</td>\n",
       "      <td>1984</td>\n",
       "      <td>4166400.0</td>\n",
       "    </tr>\n",
       "    <tr>\n",
       "      <th>X582HE161RUS</th>\n",
       "      <td>2</td>\n",
       "      <td>2000.0</td>\n",
       "      <td>Ford</td>\n",
       "      <td>Focus</td>\n",
       "      <td>2015</td>\n",
       "      <td>2015000.0</td>\n",
       "    </tr>\n",
       "    <tr>\n",
       "      <th>92918M178RUS</th>\n",
       "      <td>1</td>\n",
       "      <td>5700.0</td>\n",
       "      <td>Ford</td>\n",
       "      <td>Focus</td>\n",
       "      <td>2014</td>\n",
       "      <td>11479800.0</td>\n",
       "    </tr>\n",
       "    <tr>\n",
       "      <th>...</th>\n",
       "      <td>...</td>\n",
       "      <td>...</td>\n",
       "      <td>...</td>\n",
       "      <td>...</td>\n",
       "      <td>...</td>\n",
       "      <td>...</td>\n",
       "    </tr>\n",
       "    <tr>\n",
       "      <th>8182XX154RUS</th>\n",
       "      <td>2</td>\n",
       "      <td>75900.0</td>\n",
       "      <td>Ford</td>\n",
       "      <td>Focus</td>\n",
       "      <td>1996</td>\n",
       "      <td>75748200.0</td>\n",
       "    </tr>\n",
       "    <tr>\n",
       "      <th>X796TH96RUS</th>\n",
       "      <td>1</td>\n",
       "      <td>3100.0</td>\n",
       "      <td>Ford</td>\n",
       "      <td>Focus</td>\n",
       "      <td>2002</td>\n",
       "      <td>6206200.0</td>\n",
       "    </tr>\n",
       "    <tr>\n",
       "      <th>T011MY163RUS</th>\n",
       "      <td>1</td>\n",
       "      <td>69600.0</td>\n",
       "      <td>Ford</td>\n",
       "      <td>Focus</td>\n",
       "      <td>1996</td>\n",
       "      <td>138921600.0</td>\n",
       "    </tr>\n",
       "    <tr>\n",
       "      <th>T341CC96RUS</th>\n",
       "      <td>1</td>\n",
       "      <td>27800.0</td>\n",
       "      <td>Volkswagen</td>\n",
       "      <td>Passat</td>\n",
       "      <td>2012</td>\n",
       "      <td>55933600.0</td>\n",
       "    </tr>\n",
       "    <tr>\n",
       "      <th>T119CT96RUS</th>\n",
       "      <td>1</td>\n",
       "      <td>7200.0</td>\n",
       "      <td>Ford</td>\n",
       "      <td>Focus</td>\n",
       "      <td>1984</td>\n",
       "      <td>14284800.0</td>\n",
       "    </tr>\n",
       "  </tbody>\n",
       "</table>\n",
       "<p>925 rows × 6 columns</p>\n",
       "</div>"
      ],
      "text/plain": [
       "              Refund    Fines        Make   Model  Year   Calculated\n",
       "CarNumber                                                           \n",
       "Y163O8161RUS       2   3200.0        Ford   Focus  1989    3182400.0\n",
       "E432XX77RUS        1   6500.0      Toyota   Camry  1995   12967500.0\n",
       "7184TT36RUS        1   2100.0        Ford   Focus  1984    4166400.0\n",
       "X582HE161RUS       2   2000.0        Ford   Focus  2015    2015000.0\n",
       "92918M178RUS       1   5700.0        Ford   Focus  2014   11479800.0\n",
       "...              ...      ...         ...     ...   ...          ...\n",
       "8182XX154RUS       2  75900.0        Ford   Focus  1996   75748200.0\n",
       "X796TH96RUS        1   3100.0        Ford   Focus  2002    6206200.0\n",
       "T011MY163RUS       1  69600.0        Ford   Focus  1996  138921600.0\n",
       "T341CC96RUS        1  27800.0  Volkswagen  Passat  2012   55933600.0\n",
       "T119CT96RUS        1   7200.0        Ford   Focus  1984   14284800.0\n",
       "\n",
       "[925 rows x 6 columns]"
      ]
     },
     "execution_count": 103,
     "metadata": {},
     "output_type": "execute_result"
    }
   ],
   "source": [
    "df.set_index('CarNumber', inplace=True)\n",
    "df"
   ]
  },
  {
   "cell_type": "code",
   "execution_count": 104,
   "id": "e7937f99",
   "metadata": {},
   "outputs": [
    {
     "name": "stdout",
     "output_type": "stream",
     "text": [
      "379 µs ± 13 µs per loop (mean ± std. dev. of 7 runs, 1,000 loops each)\n"
     ]
    }
   ],
   "source": [
    "%%timeit\n",
    "df.loc[df.index == 'O136HO197RUS']"
   ]
  },
  {
   "cell_type": "markdown",
   "id": "d817b3b2",
   "metadata": {},
   "source": [
    "## Downcasting"
   ]
  },
  {
   "cell_type": "code",
   "execution_count": 105,
   "id": "299f8c43",
   "metadata": {},
   "outputs": [
    {
     "name": "stdout",
     "output_type": "stream",
     "text": [
      "<class 'pandas.core.frame.DataFrame'>\n",
      "Index: 925 entries, Y163O8161RUS to T119CT96RUS\n",
      "Data columns (total 6 columns):\n",
      " #   Column      Non-Null Count  Dtype  \n",
      "---  ------      --------------  -----  \n",
      " 0   Refund      925 non-null    int64  \n",
      " 1   Fines       925 non-null    float64\n",
      " 2   Make        925 non-null    object \n",
      " 3   Model       914 non-null    object \n",
      " 4   Year        925 non-null    int64  \n",
      " 5   Calculated  925 non-null    float64\n",
      "dtypes: float64(2), int64(2), object(2)\n",
      "memory usage: 202.6 KB\n"
     ]
    }
   ],
   "source": [
    "df.info(memory_usage='deep')"
   ]
  },
  {
   "cell_type": "code",
   "execution_count": 106,
   "id": "a634c5f1",
   "metadata": {},
   "outputs": [
    {
     "data": {
      "text/html": [
       "<div>\n",
       "<style scoped>\n",
       "    .dataframe tbody tr th:only-of-type {\n",
       "        vertical-align: middle;\n",
       "    }\n",
       "\n",
       "    .dataframe tbody tr th {\n",
       "        vertical-align: top;\n",
       "    }\n",
       "\n",
       "    .dataframe thead th {\n",
       "        text-align: right;\n",
       "    }\n",
       "</style>\n",
       "<table border=\"1\" class=\"dataframe\">\n",
       "  <thead>\n",
       "    <tr style=\"text-align: right;\">\n",
       "      <th></th>\n",
       "      <th>Refund</th>\n",
       "      <th>Fines</th>\n",
       "      <th>Make</th>\n",
       "      <th>Model</th>\n",
       "      <th>Year</th>\n",
       "      <th>Calculated</th>\n",
       "    </tr>\n",
       "    <tr>\n",
       "      <th>CarNumber</th>\n",
       "      <th></th>\n",
       "      <th></th>\n",
       "      <th></th>\n",
       "      <th></th>\n",
       "      <th></th>\n",
       "      <th></th>\n",
       "    </tr>\n",
       "  </thead>\n",
       "  <tbody>\n",
       "    <tr>\n",
       "      <th>Y163O8161RUS</th>\n",
       "      <td>2</td>\n",
       "      <td>3200.0</td>\n",
       "      <td>Ford</td>\n",
       "      <td>Focus</td>\n",
       "      <td>1989</td>\n",
       "      <td>3182400.0</td>\n",
       "    </tr>\n",
       "    <tr>\n",
       "      <th>E432XX77RUS</th>\n",
       "      <td>1</td>\n",
       "      <td>6500.0</td>\n",
       "      <td>Toyota</td>\n",
       "      <td>Camry</td>\n",
       "      <td>1995</td>\n",
       "      <td>12967500.0</td>\n",
       "    </tr>\n",
       "    <tr>\n",
       "      <th>7184TT36RUS</th>\n",
       "      <td>1</td>\n",
       "      <td>2100.0</td>\n",
       "      <td>Ford</td>\n",
       "      <td>Focus</td>\n",
       "      <td>1984</td>\n",
       "      <td>4166400.0</td>\n",
       "    </tr>\n",
       "    <tr>\n",
       "      <th>X582HE161RUS</th>\n",
       "      <td>2</td>\n",
       "      <td>2000.0</td>\n",
       "      <td>Ford</td>\n",
       "      <td>Focus</td>\n",
       "      <td>2015</td>\n",
       "      <td>2015000.0</td>\n",
       "    </tr>\n",
       "    <tr>\n",
       "      <th>92918M178RUS</th>\n",
       "      <td>1</td>\n",
       "      <td>5700.0</td>\n",
       "      <td>Ford</td>\n",
       "      <td>Focus</td>\n",
       "      <td>2014</td>\n",
       "      <td>11479800.0</td>\n",
       "    </tr>\n",
       "    <tr>\n",
       "      <th>...</th>\n",
       "      <td>...</td>\n",
       "      <td>...</td>\n",
       "      <td>...</td>\n",
       "      <td>...</td>\n",
       "      <td>...</td>\n",
       "      <td>...</td>\n",
       "    </tr>\n",
       "    <tr>\n",
       "      <th>8182XX154RUS</th>\n",
       "      <td>2</td>\n",
       "      <td>75900.0</td>\n",
       "      <td>Ford</td>\n",
       "      <td>Focus</td>\n",
       "      <td>1996</td>\n",
       "      <td>75748200.0</td>\n",
       "    </tr>\n",
       "    <tr>\n",
       "      <th>X796TH96RUS</th>\n",
       "      <td>1</td>\n",
       "      <td>3100.0</td>\n",
       "      <td>Ford</td>\n",
       "      <td>Focus</td>\n",
       "      <td>2002</td>\n",
       "      <td>6206200.0</td>\n",
       "    </tr>\n",
       "    <tr>\n",
       "      <th>T011MY163RUS</th>\n",
       "      <td>1</td>\n",
       "      <td>69600.0</td>\n",
       "      <td>Ford</td>\n",
       "      <td>Focus</td>\n",
       "      <td>1996</td>\n",
       "      <td>138921600.0</td>\n",
       "    </tr>\n",
       "    <tr>\n",
       "      <th>T341CC96RUS</th>\n",
       "      <td>1</td>\n",
       "      <td>27800.0</td>\n",
       "      <td>Volkswagen</td>\n",
       "      <td>Passat</td>\n",
       "      <td>2012</td>\n",
       "      <td>55933600.0</td>\n",
       "    </tr>\n",
       "    <tr>\n",
       "      <th>T119CT96RUS</th>\n",
       "      <td>1</td>\n",
       "      <td>7200.0</td>\n",
       "      <td>Ford</td>\n",
       "      <td>Focus</td>\n",
       "      <td>1984</td>\n",
       "      <td>14284800.0</td>\n",
       "    </tr>\n",
       "  </tbody>\n",
       "</table>\n",
       "<p>925 rows × 6 columns</p>\n",
       "</div>"
      ],
      "text/plain": [
       "              Refund    Fines        Make   Model  Year   Calculated\n",
       "CarNumber                                                           \n",
       "Y163O8161RUS       2   3200.0        Ford   Focus  1989    3182400.0\n",
       "E432XX77RUS        1   6500.0      Toyota   Camry  1995   12967500.0\n",
       "7184TT36RUS        1   2100.0        Ford   Focus  1984    4166400.0\n",
       "X582HE161RUS       2   2000.0        Ford   Focus  2015    2015000.0\n",
       "92918M178RUS       1   5700.0        Ford   Focus  2014   11479800.0\n",
       "...              ...      ...         ...     ...   ...          ...\n",
       "8182XX154RUS       2  75900.0        Ford   Focus  1996   75748200.0\n",
       "X796TH96RUS        1   3100.0        Ford   Focus  2002    6206200.0\n",
       "T011MY163RUS       1  69600.0        Ford   Focus  1996  138921600.0\n",
       "T341CC96RUS        1  27800.0  Volkswagen  Passat  2012   55933600.0\n",
       "T119CT96RUS        1   7200.0        Ford   Focus  1984   14284800.0\n",
       "\n",
       "[925 rows x 6 columns]"
      ]
     },
     "execution_count": 106,
     "metadata": {},
     "output_type": "execute_result"
    }
   ],
   "source": [
    "# Создадим копию исхоного датафрейма\n",
    "df_copy = df.copy()\n",
    "df_copy"
   ]
  },
  {
   "cell_type": "code",
   "execution_count": 107,
   "id": "08a51765",
   "metadata": {},
   "outputs": [
    {
     "name": "stdout",
     "output_type": "stream",
     "text": [
      "<class 'pandas.core.frame.DataFrame'>\n",
      "Index: 925 entries, Y163O8161RUS to T119CT96RUS\n",
      "Data columns (total 6 columns):\n",
      " #   Column      Non-Null Count  Dtype   \n",
      "---  ------      --------------  -----   \n",
      " 0   Refund      925 non-null    uint8   \n",
      " 1   Fines       925 non-null    float32 \n",
      " 2   Make        925 non-null    category\n",
      " 3   Model       914 non-null    category\n",
      " 4   Year        925 non-null    uint16  \n",
      " 5   Calculated  925 non-null    float64 \n",
      "dtypes: category(2), float32(1), float64(1), uint16(1), uint8(1)\n",
      "memory usage: 79.1 KB\n"
     ]
    }
   ],
   "source": [
    "# Понизим разрядность чисел для снижения потребления памяти          исходное = 202.6 KB\n",
    "df_copy['Refund'] = pd.to_numeric(df_copy['Refund'], downcast='unsigned') # 196.3 KB\n",
    "df_copy['Year'] = pd.to_numeric(df_copy['Year'], downcast='unsigned')     # 190.9 KB\n",
    "df_copy['Fines'] = pd.to_numeric(df_copy['Fines'], downcast='float')     # 187.2 KB\n",
    "df_copy['Calculated'] = pd.to_numeric(df_copy['Calculated'], downcast='float')     # 187.2 KB\n",
    "\n",
    "\n",
    "# objects переведем в category\n",
    "df_copy['Make'] = df_copy['Make'].astype('category')        # 133.2 KB\n",
    "df_copy['Model'] = df_copy['Model'].astype('category')      # 79.1 KB\n",
    "df_copy.info(memory_usage='deep')"
   ]
  },
  {
   "cell_type": "code",
   "execution_count": null,
   "id": "511afc38",
   "metadata": {},
   "outputs": [],
   "source": []
  }
 ],
 "metadata": {
  "kernelspec": {
   "display_name": "Python 3 (ipykernel)",
   "language": "python",
   "name": "python3"
  },
  "language_info": {
   "codemirror_mode": {
    "name": "ipython",
    "version": 3
   },
   "file_extension": ".py",
   "mimetype": "text/x-python",
   "name": "python",
   "nbconvert_exporter": "python",
   "pygments_lexer": "ipython3",
   "version": "3.11.5"
  }
 },
 "nbformat": 4,
 "nbformat_minor": 5
}
