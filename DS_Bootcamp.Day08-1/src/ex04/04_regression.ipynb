{
 "cells": [
  {
   "cell_type": "markdown",
   "id": "aa6ab069",
   "metadata": {},
   "source": [
    "# Day 08. Exercise 04\n",
    "# Regression"
   ]
  },
  {
   "cell_type": "markdown",
   "id": "50432e54",
   "metadata": {},
   "source": [
    "## 0. Imports"
   ]
  },
  {
   "cell_type": "code",
   "execution_count": 15,
   "id": "db68271d",
   "metadata": {},
   "outputs": [],
   "source": [
    "import pandas as pd\n",
    "from sklearn.preprocessing import StandardScaler\n",
    "from sklearn.tree import DecisionTreeRegressor\n",
    "from sklearn.ensemble import RandomForestRegressor\n",
    "from sklearn.model_selection import train_test_split, KFold, cross_val_score, cross_val_predict\n",
    "from sklearn import linear_model, metrics\n",
    "from matplotlib import pyplot as plt\n",
    "from collections import Counter"
   ]
  },
  {
   "cell_type": "markdown",
   "id": "b3111200",
   "metadata": {},
   "source": [
    "## 1. Preprocessing"
   ]
  },
  {
   "cell_type": "markdown",
   "id": "a9a8d788",
   "metadata": {},
   "source": [
    "1. Read the file [`checker_regression.csv`](https://drive.google.com/file/d/1L8auBzJEghWFewznhhFpcrqxW4GqcfRY/view?usp=sharing).\n",
    "2. Fill the missing values in it with `0`.\n",
    "3. Make a split of your dataset on train and test with parameters `test_size=0.2`."
   ]
  },
  {
   "cell_type": "code",
   "execution_count": 4,
   "id": "d28ac0de",
   "metadata": {},
   "outputs": [
    {
     "data": {
      "text/html": [
       "<div>\n",
       "<style scoped>\n",
       "    .dataframe tbody tr th:only-of-type {\n",
       "        vertical-align: middle;\n",
       "    }\n",
       "\n",
       "    .dataframe tbody tr th {\n",
       "        vertical-align: top;\n",
       "    }\n",
       "\n",
       "    .dataframe thead th {\n",
       "        text-align: right;\n",
       "    }\n",
       "</style>\n",
       "<table border=\"1\" class=\"dataframe\">\n",
       "  <thead>\n",
       "    <tr style=\"text-align: right;\">\n",
       "      <th></th>\n",
       "      <th>uid</th>\n",
       "      <th>num_commits</th>\n",
       "      <th>pageviews</th>\n",
       "      <th>AVG(diff)</th>\n",
       "    </tr>\n",
       "  </thead>\n",
       "  <tbody>\n",
       "    <tr>\n",
       "      <th>0</th>\n",
       "      <td>user_1</td>\n",
       "      <td>62</td>\n",
       "      <td>28.0</td>\n",
       "      <td>NaN</td>\n",
       "    </tr>\n",
       "    <tr>\n",
       "      <th>1</th>\n",
       "      <td>user_1</td>\n",
       "      <td>62</td>\n",
       "      <td>28.0</td>\n",
       "      <td>NaN</td>\n",
       "    </tr>\n",
       "    <tr>\n",
       "      <th>2</th>\n",
       "      <td>user_1</td>\n",
       "      <td>62</td>\n",
       "      <td>28.0</td>\n",
       "      <td>NaN</td>\n",
       "    </tr>\n",
       "    <tr>\n",
       "      <th>3</th>\n",
       "      <td>user_1</td>\n",
       "      <td>62</td>\n",
       "      <td>28.0</td>\n",
       "      <td>NaN</td>\n",
       "    </tr>\n",
       "    <tr>\n",
       "      <th>4</th>\n",
       "      <td>user_1</td>\n",
       "      <td>62</td>\n",
       "      <td>28.0</td>\n",
       "      <td>NaN</td>\n",
       "    </tr>\n",
       "    <tr>\n",
       "      <th>...</th>\n",
       "      <td>...</td>\n",
       "      <td>...</td>\n",
       "      <td>...</td>\n",
       "      <td>...</td>\n",
       "    </tr>\n",
       "    <tr>\n",
       "      <th>72</th>\n",
       "      <td>user_31</td>\n",
       "      <td>128</td>\n",
       "      <td>NaN</td>\n",
       "      <td>-104.75</td>\n",
       "    </tr>\n",
       "    <tr>\n",
       "      <th>73</th>\n",
       "      <td>user_4</td>\n",
       "      <td>40</td>\n",
       "      <td>NaN</td>\n",
       "      <td>-175.60</td>\n",
       "    </tr>\n",
       "    <tr>\n",
       "      <th>74</th>\n",
       "      <td>user_6</td>\n",
       "      <td>15</td>\n",
       "      <td>NaN</td>\n",
       "      <td>-62.60</td>\n",
       "    </tr>\n",
       "    <tr>\n",
       "      <th>75</th>\n",
       "      <td>user_7</td>\n",
       "      <td>8</td>\n",
       "      <td>NaN</td>\n",
       "      <td>-115.50</td>\n",
       "    </tr>\n",
       "    <tr>\n",
       "      <th>76</th>\n",
       "      <td>user_8</td>\n",
       "      <td>71</td>\n",
       "      <td>NaN</td>\n",
       "      <td>-160.40</td>\n",
       "    </tr>\n",
       "  </tbody>\n",
       "</table>\n",
       "<p>77 rows × 4 columns</p>\n",
       "</div>"
      ],
      "text/plain": [
       "        uid  num_commits  pageviews  AVG(diff)\n",
       "0    user_1           62       28.0        NaN\n",
       "1    user_1           62       28.0        NaN\n",
       "2    user_1           62       28.0        NaN\n",
       "3    user_1           62       28.0        NaN\n",
       "4    user_1           62       28.0        NaN\n",
       "..      ...          ...        ...        ...\n",
       "72  user_31          128        NaN    -104.75\n",
       "73   user_4           40        NaN    -175.60\n",
       "74   user_6           15        NaN     -62.60\n",
       "75   user_7            8        NaN    -115.50\n",
       "76   user_8           71        NaN    -160.40\n",
       "\n",
       "[77 rows x 4 columns]"
      ]
     },
     "execution_count": 4,
     "metadata": {},
     "output_type": "execute_result"
    }
   ],
   "source": [
    "# 1\n",
    "df = pd.read_csv('../data/checker_regression.csv')\n",
    "df"
   ]
  },
  {
   "cell_type": "code",
   "execution_count": 6,
   "id": "e951aec7",
   "metadata": {},
   "outputs": [],
   "source": [
    "# 2"
   ]
  },
  {
   "cell_type": "code",
   "execution_count": 10,
   "id": "20e7817c",
   "metadata": {},
   "outputs": [
    {
     "name": "stdout",
     "output_type": "stream",
     "text": [
      "<class 'pandas.core.frame.DataFrame'>\n",
      "RangeIndex: 77 entries, 0 to 76\n",
      "Data columns (total 4 columns):\n",
      " #   Column       Non-Null Count  Dtype  \n",
      "---  ------       --------------  -----  \n",
      " 0   uid          77 non-null     object \n",
      " 1   num_commits  77 non-null     int64  \n",
      " 2   pageviews    77 non-null     float64\n",
      " 3   AVG(diff)    77 non-null     float64\n",
      "dtypes: float64(2), int64(1), object(1)\n",
      "memory usage: 2.5+ KB\n"
     ]
    }
   ],
   "source": [
    "df.fillna(0, inplace=True)\n",
    "df.info()"
   ]
  },
  {
   "cell_type": "code",
   "execution_count": 21,
   "id": "576bb450",
   "metadata": {},
   "outputs": [],
   "source": [
    "# 3\n",
    "uid = {}\n",
    "c = 0\n",
    "for i in Counter(df.uid):\n",
    "  uid[i] = c;\n",
    "  c += 1\n",
    "df[\"uid_num\"] = [uid[df.uid[i]] for i in range(0, 77)]\n",
    "\n",
    "scaller = StandardScaler()\n",
    "X = df.drop(['uid', 'AVG(diff)'], axis=1).values\n",
    "y = df['AVG(diff)']\n",
    "\n",
    "scaller.fit(X, y)\n",
    "X_scaled = scaller.transform(X)\n",
    "# X_scaled\n",
    "\n",
    "X_train, X_test, y_train, y_test = train_test_split(X_scaled, y, test_size = 0.2, random_state=21)"
   ]
  },
  {
   "cell_type": "markdown",
   "id": "df5571aa",
   "metadata": {},
   "source": [
    "## 2. Crossvalidation\n"
   ]
  },
  {
   "cell_type": "markdown",
   "id": "73fe609d",
   "metadata": {},
   "source": [
    "1. Write a function `crossval` that takes as arguments: `n_splits` for `KFold()`, `X`, `y`, model instantiated class with the parameters of the model (keep in mind: `random_state=21`) and returns for a given model class a result like this:\n",
    "\n",
    "```\n",
    "train -  2696.4496895424836   |   test -  1589.9979527104958\n",
    "train -  2660.957874001452   |   test -  2075.102636027137\n",
    "train -  2847.315529246795   |   test -  320.911928168403\n",
    "train -  2500.7691099659237   |   test -  4132.461382030178\n",
    "train -  2643.927917295123   |   test -  2237.8140952197878\n",
    "train -  2396.295678819444   |   test -  4509.650064742476\n",
    "train -  2003.402267924976   |   test -  8403.491474908551\n",
    "train -  2531.876094212613   |   test -  3135.944102735099\n",
    "train -  2683.1795186023123   |   test -  1796.01426292594\n",
    "train -  2537.1192483996338   |   test -  3439.29824116941\n",
    "Average RMSE on crossval is 3164.0686140637476\n",
    "```\n",
    "\n",
    "2. Run the function for `LinearRegression`, `DecisionTreeRegressor`, `RandomForestRegressor`. You may choose the parameters by yourself, but find the good enough for you."
   ]
  },
  {
   "cell_type": "code",
   "execution_count": 23,
   "id": "12adc094",
   "metadata": {},
   "outputs": [],
   "source": [
    "# 1\n",
    "def crossval(n_splits, X, y, model):\n",
    "  X_train, X_test, y_train, y_test = train_test_split(X, y, test_size = 0.2, random_state=21)\n",
    "\n",
    "  ft_m = model.fit(X_train, y_train)\n",
    "  scores = cross_val_score(model, X_train, y_train, cv=n_splits)\n",
    "  scores_test = cross_val_score(model, X_test, y_test, cv=n_splits)\n",
    "  predict = cross_val_predict(ft_m, X_test, y_test, cv=n_splits)\n",
    "  accuracy = metrics.mean_squared_error(y_test, predict)\n",
    "\n",
    "  for i in range(0, len(scores)):\n",
    "    print(f'train - {scores[i]} | test - {scores_test[i]}')\n",
    "  print(f'Average RMSE on crossval is {accuracy}')"
   ]
  },
  {
   "cell_type": "code",
   "execution_count": 26,
   "id": "ad1d8173",
   "metadata": {},
   "outputs": [
    {
     "name": "stdout",
     "output_type": "stream",
     "text": [
      "train - 0.0 | test - 0.004961726951508649\n",
      "train - 0.09634005445510063 | test - -0.5428483665232184\n",
      "train - -693.7073835189224 | test - 0.0\n",
      "train - -1.0941536493512776 | test - -0.8009205015492376\n",
      "train - 0.6001615808128324 | test - 0.0\n",
      "train - 0.09683923334488986 | test - 0.0\n",
      "Average RMSE on crossval is 5525.123876204743\n"
     ]
    }
   ],
   "source": [
    "#  2. LinearRegression\n",
    "lreg = linear_model.LinearRegression()\n",
    "crossval(6, X_scaled, y, lreg)"
   ]
  },
  {
   "cell_type": "code",
   "execution_count": 28,
   "id": "e7ca4ef2",
   "metadata": {},
   "outputs": [
    {
     "name": "stdout",
     "output_type": "stream",
     "text": [
      "train - 1.0 | test - -4.596767509324493\n",
      "train - 0.47179551899476235 | test - -0.2743937831420151\n",
      "train - -1866.7777777777776 | test - 0.0\n",
      "train - 0.4911702405910613 | test - 0.6893858098724908\n",
      "train - -0.9918996463812577 | test - 1.0\n",
      "train - 0.47109860051659336 | test - 1.0\n",
      "Average RMSE on crossval is 3198.513125\n"
     ]
    }
   ],
   "source": [
    "#  2. DecisionTreeRegressor\n",
    "dtr = DecisionTreeRegressor(random_state=21)\n",
    "crossval(6, X_scaled, y, dtr)"
   ]
  },
  {
   "cell_type": "code",
   "execution_count": 29,
   "id": "efbcd732",
   "metadata": {},
   "outputs": [
    {
     "name": "stdout",
     "output_type": "stream",
     "text": [
      "train - 1.0 | test - -5.006453579776215\n",
      "train - 0.36156757125967476 | test - -0.2429836321548351\n",
      "train - -1990.7990523456756 | test - 0.0\n",
      "train - 0.5306663850289821 | test - 0.0047484946976384945\n",
      "train - -0.44749032017942025 | test - 0.0\n",
      "train - 0.484449411221871 | test - 0.0\n",
      "Average RMSE on crossval is 3551.0611675\n"
     ]
    }
   ],
   "source": [
    "#  2. RandomForestRegressor\n",
    "rfr = RandomForestRegressor(random_state = 21)\n",
    "crossval(6, X_scaled, Y, rfr)"
   ]
  },
  {
   "cell_type": "markdown",
   "id": "63ed0352",
   "metadata": {},
   "source": [
    "## 3. Predictions and evaluation"
   ]
  },
  {
   "cell_type": "markdown",
   "id": "40036dd4",
   "metadata": {},
   "source": [
    "1. Make predictions for the test dataset using each of the three models with the finalized parameters.\n",
    "2. Draw a plot for each of the models where the `x-axis` is the actual average difference and the `y-axis` is the prediction made by a model.\n",
    "3. How would plot look like in the ideal case? Put the answer to the markdown cell in the end of the section."
   ]
  },
  {
   "cell_type": "code",
   "execution_count": null,
   "id": "d814b400",
   "metadata": {},
   "outputs": [],
   "source": []
  }
 ],
 "metadata": {
  "kernelspec": {
   "display_name": "Python 3 (ipykernel)",
   "language": "python",
   "name": "python3"
  },
  "language_info": {
   "codemirror_mode": {
    "name": "ipython",
    "version": 3
   },
   "file_extension": ".py",
   "mimetype": "text/x-python",
   "name": "python",
   "nbconvert_exporter": "python",
   "pygments_lexer": "ipython3",
   "version": "3.11.5"
  }
 },
 "nbformat": 4,
 "nbformat_minor": 5
}
