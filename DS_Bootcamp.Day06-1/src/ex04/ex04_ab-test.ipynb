{
 "cells": [
  {
   "cell_type": "code",
   "execution_count": 1,
   "id": "bee94d0a",
   "metadata": {},
   "outputs": [],
   "source": [
    "import pandas as pd\n",
    "import sqlite3"
   ]
  },
  {
   "cell_type": "markdown",
   "id": "0b82de3c",
   "metadata": {},
   "source": [
    "## создать подключение к базе данных с помощью библиотеки sqlite3"
   ]
  },
  {
   "cell_type": "code",
   "execution_count": 2,
   "id": "924d2b8e",
   "metadata": {},
   "outputs": [],
   "source": [
    "conn = sqlite3.connect('../data/checking-logs.sqlite')"
   ]
  },
  {
   "cell_type": "markdown",
   "id": "65fe6868",
   "metadata": {},
   "source": [
    "## используя только один запрос для каждой из групп, создайте два фрейма данных: test_results и control_results со столбцами time и avg_diff и только двумя строками.\n",
    "- время должно иметь значения: после и до\n",
    "- avg_diff содержит среднюю разницу среди всех пользователей за период времени до того, как каждый из них впервые посетил страницу, и после него.\n",
    "- учитывать только пользователей, у которых есть наблюдения до и после"
   ]
  },
  {
   "cell_type": "code",
   "execution_count": 4,
   "id": "d2d5984e",
   "metadata": {},
   "outputs": [
    {
     "data": {
      "text/html": [
       "<div>\n",
       "<style scoped>\n",
       "    .dataframe tbody tr th:only-of-type {\n",
       "        vertical-align: middle;\n",
       "    }\n",
       "\n",
       "    .dataframe tbody tr th {\n",
       "        vertical-align: top;\n",
       "    }\n",
       "\n",
       "    .dataframe thead th {\n",
       "        text-align: right;\n",
       "    }\n",
       "</style>\n",
       "<table border=\"1\" class=\"dataframe\">\n",
       "  <thead>\n",
       "    <tr style=\"text-align: right;\">\n",
       "      <th></th>\n",
       "      <th>time</th>\n",
       "      <th>avg_diff</th>\n",
       "    </tr>\n",
       "  </thead>\n",
       "  <tbody>\n",
       "    <tr>\n",
       "      <th>0</th>\n",
       "      <td>after</td>\n",
       "      <td>104.6000</td>\n",
       "    </tr>\n",
       "    <tr>\n",
       "      <th>1</th>\n",
       "      <td>before</td>\n",
       "      <td>60.5625</td>\n",
       "    </tr>\n",
       "  </tbody>\n",
       "</table>\n",
       "</div>"
      ],
      "text/plain": [
       "     time  avg_diff\n",
       "0   after  104.6000\n",
       "1  before   60.5625"
      ]
     },
     "execution_count": 4,
     "metadata": {},
     "output_type": "execute_result"
    }
   ],
   "source": [
    "query = '''\n",
    "SELECT time,\n",
    "       avg(diff) AS avg_diff\n",
    "FROM (SELECT uid,\n",
    "             CAST( (JulianDay(datetime(deadlines.deadlines, 'unixepoch')) -\n",
    "                    JulianDay(test.first_commit_ts)\n",
    "                    ) * 24 as Integer\n",
    "                  ) as diff,\n",
    "             CASE WHEN test.first_commit_ts < test.first_view_ts THEN 'before'\n",
    "             ELSE 'after' END AS time\n",
    "       FROM test left join deadlines on test.labname = deadlines.labs\n",
    "       WHERE labname <> 'project1'\n",
    "      )\n",
    "WHERE uid in (SELECT uid\n",
    "              FROM (SELECT uid,\n",
    "                           CASE WHEN test.first_commit_ts < test.first_view_ts THEN 'before'\n",
    "                           ELSE 'after' END as time\n",
    "                    FROM test\n",
    "                    LEFT JOIN deadlines ON test.labname=deadlines.labs\n",
    "                    WHERE labname <> 'project1'\n",
    "                    )\n",
    "               GROUP BY uid\n",
    "               HAVING COUNT(DISTINCT time)=2\n",
    "               )\n",
    "GROUP BY time\n",
    "'''\n",
    "test_results = pd.io.sql.read_sql(query, conn)\n",
    "test_results"
   ]
  },
  {
   "cell_type": "code",
   "execution_count": 5,
   "id": "1a54cb73",
   "metadata": {},
   "outputs": [
    {
     "data": {
      "text/html": [
       "<div>\n",
       "<style scoped>\n",
       "    .dataframe tbody tr th:only-of-type {\n",
       "        vertical-align: middle;\n",
       "    }\n",
       "\n",
       "    .dataframe tbody tr th {\n",
       "        vertical-align: top;\n",
       "    }\n",
       "\n",
       "    .dataframe thead th {\n",
       "        text-align: right;\n",
       "    }\n",
       "</style>\n",
       "<table border=\"1\" class=\"dataframe\">\n",
       "  <thead>\n",
       "    <tr style=\"text-align: right;\">\n",
       "      <th></th>\n",
       "      <th>time</th>\n",
       "      <th>avg_diff</th>\n",
       "    </tr>\n",
       "  </thead>\n",
       "  <tbody>\n",
       "    <tr>\n",
       "      <th>0</th>\n",
       "      <td>after</td>\n",
       "      <td>117.636364</td>\n",
       "    </tr>\n",
       "    <tr>\n",
       "      <th>1</th>\n",
       "      <td>before</td>\n",
       "      <td>99.464286</td>\n",
       "    </tr>\n",
       "  </tbody>\n",
       "</table>\n",
       "</div>"
      ],
      "text/plain": [
       "     time    avg_diff\n",
       "0   after  117.636364\n",
       "1  before   99.464286"
      ]
     },
     "execution_count": 5,
     "metadata": {},
     "output_type": "execute_result"
    }
   ],
   "source": [
    "query = '''\n",
    "SELECT time,\n",
    "       avg(diff) AS avg_diff\n",
    "FROM (SELECT uid,\n",
    "             CAST( (JulianDay(datetime(deadlines.deadlines, 'unixepoch')) -\n",
    "                    JulianDay(control.first_commit_ts)\n",
    "                    ) * 24 as Integer\n",
    "                  ) as diff,\n",
    "             CASE WHEN control.first_commit_ts < control.first_view_ts THEN 'before'\n",
    "             ELSE 'after'\n",
    "             END AS time\n",
    "             FROM control\n",
    "             LEFT JOIN deadlines ON control.labname=deadlines.labs\n",
    "             WHERE labname <> 'project1'\n",
    "      )\n",
    "WHERE uid IN (SELECT uid\n",
    "              FROM (SELECT uid,\n",
    "                           CASE WHEN control.first_commit_ts < control.first_view_ts THEN 'before'\n",
    "                           ELSE 'after'\n",
    "                           END AS time\n",
    "                    FROM control\n",
    "                    LEFT JOIN deadlines ON control.labname=deadlines.labs\n",
    "                    WHERE labname <> 'project1'\n",
    "                    )\n",
    "              GROUP BY uid\n",
    "              HAVING COUNT(distinct time)=2\n",
    "              )\n",
    "GROUP BY time\n",
    "'''\n",
    "control_results = pd.io.sql.read_sql(query, conn)\n",
    "control_results"
   ]
  },
  {
   "cell_type": "markdown",
   "id": "1fd0ff32",
   "metadata": {},
   "source": [
    "## закрыть соединение"
   ]
  },
  {
   "cell_type": "code",
   "execution_count": 6,
   "id": "38307414",
   "metadata": {},
   "outputs": [],
   "source": [
    "conn.close()"
   ]
  }
 ],
 "metadata": {
  "kernelspec": {
   "display_name": "Python 3 (ipykernel)",
   "language": "python",
   "name": "python3"
  },
  "language_info": {
   "codemirror_mode": {
    "name": "ipython",
    "version": 3
   },
   "file_extension": ".py",
   "mimetype": "text/x-python",
   "name": "python",
   "nbconvert_exporter": "python",
   "pygments_lexer": "ipython3",
   "version": "3.11.5"
  }
 },
 "nbformat": 4,
 "nbformat_minor": 5
}
